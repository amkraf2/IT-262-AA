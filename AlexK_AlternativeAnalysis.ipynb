{
  "nbformat": 4,
  "nbformat_minor": 0,
  "metadata": {
    "colab": {
      "name": "AlexK_AlternativeAnalysis.ipynb",
      "provenance": [],
      "mount_file_id": "1VZVzwnbb0-wY5I1fQkry2uuh3OpP4J-L",
      "authorship_tag": "ABX9TyP7GI7jwyxUy7YV9lQyjM4u",
      "include_colab_link": true
    },
    "kernelspec": {
      "name": "python3",
      "display_name": "Python 3"
    },
    "language_info": {
      "name": "python"
    }
  },
  "cells": [
    {
      "cell_type": "markdown",
      "metadata": {
        "id": "view-in-github",
        "colab_type": "text"
      },
      "source": [
        "<a href=\"https://colab.research.google.com/github/amkraf2/IT-262-AA/blob/main/AlexK_AlternativeAnalysis.ipynb\" target=\"_parent\"><img src=\"https://colab.research.google.com/assets/colab-badge.svg\" alt=\"Open In Colab\"/></a>"
      ]
    },
    {
      "cell_type": "code",
      "execution_count": 7,
      "metadata": {
        "colab": {
          "base_uri": "https://localhost:8080/"
        },
        "id": "Tj01SrFEwGhy",
        "outputId": "34ccaeff-9261-4ad6-d958-ee1101668d88"
      },
      "outputs": [
        {
          "output_type": "stream",
          "name": "stdout",
          "text": [
            "Empty DataFrame\n",
            "Columns: [criteria, weight, ratingA, ratingB, scoreA, scoreB]\n",
            "Index: []\n"
          ]
        }
      ],
      "source": [
        "import pandas as pd\n",
        "import math\n",
        "\n",
        "#crete a dataframe for our alternative analysis matix\n",
        "AA= pd.DataFrame(columns=['criteria', 'weight', 'ratingA', 'ratingB', 'scoreA', 'scoreB'])\n",
        "print(AA)"
      ]
    },
    {
      "cell_type": "code",
      "source": [
        "# first step: identify a set of criteria \n",
        "AA['criteria']=['risk','ROI', 'feasibility', 'customer satisfaction', 'strategicAlignment']\n",
        "print(AA)"
      ],
      "metadata": {
        "colab": {
          "base_uri": "https://localhost:8080/"
        },
        "id": "g9E2-ivcxsa_",
        "outputId": "bf4118a4-23a6-4ccb-bf7c-146f44c1c1b7"
      },
      "execution_count": 9,
      "outputs": [
        {
          "output_type": "stream",
          "name": "stdout",
          "text": [
            "                criteria  weight ratingA ratingB scoreA scoreB\n",
            "0                   risk    0.10     NaN     NaN    NaN    NaN\n",
            "1                    ROI    0.15     NaN     NaN    NaN    NaN\n",
            "2            feasibility    0.30     NaN     NaN    NaN    NaN\n",
            "3  customer satisfaction    0.15     NaN     NaN    NaN    NaN\n",
            "4     strategicAlignment    0.30     NaN     NaN    NaN    NaN\n"
          ]
        }
      ]
    },
    {
      "cell_type": "code",
      "source": [
        "#step 2: is to assign weights\n",
        "#weights show realative importance of each criterion\n",
        "#the weights should add up to 1 or 100\n",
        "AA['weight']=[0.1, 0.15,0.3,.15,.3]\n",
        "print(AA)"
      ],
      "metadata": {
        "colab": {
          "base_uri": "https://localhost:8080/"
        },
        "id": "55FM_9TnyDWE",
        "outputId": "c3d8af64-9a66-482a-c557-f0aab2bfdee8"
      },
      "execution_count": 8,
      "outputs": [
        {
          "output_type": "stream",
          "name": "stdout",
          "text": [
            "  criteria  weight ratingA ratingB scoreA scoreB\n",
            "0      NaN    0.10     NaN     NaN    NaN    NaN\n",
            "1      NaN    0.15     NaN     NaN    NaN    NaN\n",
            "2      NaN    0.30     NaN     NaN    NaN    NaN\n",
            "3      NaN    0.15     NaN     NaN    NaN    NaN\n",
            "4      NaN    0.30     NaN     NaN    NaN    NaN\n"
          ]
        }
      ]
    },
    {
      "cell_type": "code",
      "source": [
        "# step 3: rate each alternative across all criteria\n",
        "#choose a scale: 1-5 or 1-7 or 1-10\n",
        "#higher number: an alternative is doing better regarding a given criterion\n",
        "\n",
        "AA['ratingA']=[4,1,2,1,5]\n",
        "AA['ratingB']=[3,4,2,3,2]\n",
        "#step4: calculate partial scores by multiplying weight * ratings\n",
        "for index, row in AA.iterrows():\n",
        "  AA['scoreA'][index]=row['weight']*row['ratingA']\n",
        "  AA['scoreB'][index]=row['weight']*row['ratingB']\n",
        "\n",
        "print(AA)\n"
      ],
      "metadata": {
        "colab": {
          "base_uri": "https://localhost:8080/"
        },
        "id": "_BrLGOeCy0SZ",
        "outputId": "b9e6e51d-5c0a-4876-97f5-193280810632"
      },
      "execution_count": 12,
      "outputs": [
        {
          "output_type": "stream",
          "name": "stdout",
          "text": [
            "                criteria  weight  ratingA  ratingB scoreA scoreB\n",
            "0                   risk    0.10        4        3    0.4    0.3\n",
            "1                    ROI    0.15        1        4   0.15    0.6\n",
            "2            feasibility    0.30        2        2    0.6    0.6\n",
            "3  customer satisfaction    0.15        1        3   0.15   0.45\n",
            "4     strategicAlignment    0.30        5        2    1.5    0.6\n"
          ]
        },
        {
          "output_type": "stream",
          "name": "stderr",
          "text": [
            "/usr/local/lib/python3.7/dist-packages/ipykernel_launcher.py:9: SettingWithCopyWarning: \n",
            "A value is trying to be set on a copy of a slice from a DataFrame\n",
            "\n",
            "See the caveats in the documentation: https://pandas.pydata.org/pandas-docs/stable/user_guide/indexing.html#returning-a-view-versus-a-copy\n",
            "  if __name__ == '__main__':\n",
            "/usr/local/lib/python3.7/dist-packages/ipykernel_launcher.py:10: SettingWithCopyWarning: \n",
            "A value is trying to be set on a copy of a slice from a DataFrame\n",
            "\n",
            "See the caveats in the documentation: https://pandas.pydata.org/pandas-docs/stable/user_guide/indexing.html#returning-a-view-versus-a-copy\n",
            "  # Remove the CWD from sys.path while we load stuff.\n"
          ]
        }
      ]
    },
    {
      "cell_type": "code",
      "source": [
        "#step5: add up partial scores to get a total score\n",
        "# the alternative with the highest total; score should be proposed\n",
        "\n",
        "totalScoreA=0\n",
        "totalScoreB=0\n",
        "\n",
        "for index, row in AA.iterrows():\n",
        "  totalScoreA+=row['scoreA']\n",
        "  totalScoreB+=row['scoreB']\n",
        "print('the total score for alternative A is {:.2f} and for alternative B is {:.2f}'.format(totalScoreA,totalScoreB))"
      ],
      "metadata": {
        "colab": {
          "base_uri": "https://localhost:8080/"
        },
        "id": "AWNig0et0Btj",
        "outputId": "eac7b6df-64d4-46a5-adcb-0873f239b0a5"
      },
      "execution_count": 13,
      "outputs": [
        {
          "output_type": "stream",
          "name": "stdout",
          "text": [
            "the total score for alternative A is 2.80 and for alternative B is 2.55\n"
          ]
        }
      ]
    }
  ]
}